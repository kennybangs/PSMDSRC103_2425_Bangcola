{
 "cells": [
  {
   "cell_type": "code",
   "execution_count": null,
   "id": "626b57b3-a22f-4e7e-bab4-78465ff04c4a",
   "metadata": {},
   "outputs": [],
   "source": [
    "#SW2.1 \n",
    "#Karim Bangcola Jr.\n",
    "#Sept 15"
   ]
  },
  {
   "cell_type": "code",
   "execution_count": 81,
   "id": "00c42bc7-6b7e-4401-81a0-29a48b4c6447",
   "metadata": {},
   "outputs": [
    {
     "name": "stdout",
     "output_type": "stream",
     "text": [
      "Propositional Logic Evaluator for discrete math for 2-3 variables\n"
     ]
    },
    {
     "name": "stdin",
     "output_type": "stream",
     "text": [
      "How many variables? 2\n",
      "Enter the propositional logic expression:  not(A and B) or (A and B)\n"
     ]
    },
    {
     "name": "stdout",
     "output_type": "stream",
     "text": [
      "A B f\n",
      "0 0 True\n",
      "0 1 True\n",
      "1 0 True\n",
      "1 1 1\n"
     ]
    }
   ],
   "source": [
    "#evaluator.py\n",
    "\n",
    "print(\"Propositional Logic Evaluator for discrete math for 2-3 variables\")\n",
    "\n",
    "variables = int(input(\"How many variables?\"))\n",
    "total_combinations = 2 ** variables\n",
    "\n",
    "combinations_list = []\n",
    "\n",
    "# Generate the combinations\n",
    "for i in range(total_combinations):\n",
    "    bin_equivalent = bin(i)[2:]\n",
    "    while len(bin_equivalent) < variables:\n",
    "        bin_equivalent = \"0\"+bin_equivalent\n",
    "    combinations_list.append(tuple(int(val) for val in bin_equivalent))\n",
    "\n",
    "#print(combinations_list)\n",
    "\n",
    "# Main Program\n",
    "expression = input(\"Enter the propositional logic expression: \")\n",
    "\n",
    "if variables == 2:\n",
    "    print(\"A B f\")\n",
    "    for A, B in combinations_list:\n",
    "        evaluated_expression = eval(expression)\n",
    "        print(A, B, evaluated_expression)\n",
    "elif variables == 3:\n",
    "    print(\"A B C f\")\n",
    "    for A, B, C in combinations_list:\n",
    "        evaluated_expression = eval(expression)\n",
    "        print(A, B, C, evaluated_expression)"
   ]
  },
  {
   "cell_type": "code",
   "execution_count": 8,
   "id": "e1297c9c-962d-4ccc-957d-86901923626d",
   "metadata": {},
   "outputs": [],
   "source": [
    "#Using the open function for file handling\n",
    "\n",
    "#filewriter.py\n",
    "\n",
    "name = \"Ken Bangcola\"  # Modify by writing your name here.\n",
    "file = open(\"newfile1.txt\", 'w')\n",
    "file.write(f\"Hello, {name}!\\n\")\n",
    "file.write(\"Isn't this amazing?\\n\")\n",
    "file.write(\"that we can create and write on text files\\n\")\n",
    "file.write(\"using Python.\")\n",
    "file.close()\n",
    "\n",
    "#creates a new txt file named newfile1.txt with the content of the write functions.\n",
    "\n",
    "file = open(\"newfile2.txt\", 'w')\n",
    "file.write(\"This message was created using Python!\\n\")\n",
    "file.close()\n",
    "\n",
    "#creates a new txt file named newfile2.txt with different content"
   ]
  },
  {
   "cell_type": "code",
   "execution_count": 12,
   "id": "e8c2c23b-bd10-4a6e-bd15-e654a445cab0",
   "metadata": {},
   "outputs": [
    {
     "name": "stdout",
     "output_type": "stream",
     "text": [
      "This message was created using Python!\n",
      "\n"
     ]
    }
   ],
   "source": [
    "#filereader.py\n",
    "\n",
    "file = open(\"newfile2.txt\", 'r')\n",
    "data = file.read()\n",
    "print(data)\n",
    "file.close()\n"
   ]
  },
  {
   "cell_type": "code",
   "execution_count": 16,
   "id": "a48a3343-9795-411b-adb4-4d784f057d72",
   "metadata": {},
   "outputs": [
    {
     "name": "stdout",
     "output_type": "stream",
     "text": [
      "This message\n"
     ]
    }
   ],
   "source": [
    "#change to read only the first 12 characters\n",
    "\n",
    "#filereader.py\n",
    "\n",
    "file = open(\"newfile2.txt\", 'r')\n",
    "data = file.read(12)\n",
    "print(data)\n",
    "file.close()\n"
   ]
  },
  {
   "cell_type": "code",
   "execution_count": 18,
   "id": "b0181623-8949-479e-a65c-a5abb0715b61",
   "metadata": {},
   "outputs": [
    {
     "name": "stdout",
     "output_type": "stream",
     "text": [
      "This message was created using Python!\n",
      "and also by the programmer, of course.\n"
     ]
    }
   ],
   "source": [
    "#fileappender.py\n",
    "\n",
    "file = open(\"newfile2.txt\", 'a')\n",
    "file.write(\"and also by the programmer, of course.\")\n",
    "file.close()\n",
    "\n",
    "#appends to the already existing file\n",
    "\n",
    "file = open(\"newfile2.txt\", 'r')\n",
    "data = file.read()\n",
    "print(data)\n",
    "file.close()"
   ]
  },
  {
   "cell_type": "code",
   "execution_count": 26,
   "id": "6961eeaa-0710-4ede-b6ca-b4c29afadc07",
   "metadata": {},
   "outputs": [
    {
     "name": "stdout",
     "output_type": "stream",
     "text": [
      "[(0, 0, 0), (0, 0, 1), (0, 1, 0), (0, 1, 1), (1, 0, 0), (1, 0, 1), (1, 1, 0), (1, 1, 1)]\n"
     ]
    }
   ],
   "source": [
    "#truthtablegenerator.py\n",
    "\n",
    "def generate_truthtable(number_of_variables):\n",
    "    total_combinations = 2 ** number_of_variables\n",
    "    combinations_list = []\n",
    "\n",
    "    for i in range(total_combinations):\n",
    "        bin_equivalent = bin(i)[2:]\n",
    "\n",
    "        while len(bin_equivalent) < number_of_variables:\n",
    "            bin_equivalent = \"0\" + bin_equivalent\n",
    "        combinations_list.append(tuple(int(val) for val in bin_equivalent))\n",
    "\n",
    "    return combinations_list\n",
    "\n",
    "print(generate_truthtable(3))\n",
    "\n",
    "#we generate a list with 2**variable elements. each element is a possible combination of\n",
    "#1 and 0 either 2 or 3 times in 1 element"
   ]
  },
  {
   "cell_type": "code",
   "execution_count": 30,
   "id": "653b5c3c-cf56-4284-ae24-2071ee9dbb2b",
   "metadata": {},
   "outputs": [
    {
     "name": "stdout",
     "output_type": "stream",
     "text": [
      "You need to enter an integer\n"
     ]
    }
   ],
   "source": [
    "#truuthtablegenerator.py\n",
    "\n",
    "#version 2\n",
    "\n",
    "def generate_truthtable(number_of_variables=0):\n",
    "    if number_of_variables == 0:\n",
    "        return \"You need to enter an integer\"\n",
    "    else:\n",
    "        total_combinations = 2 ** number_of_variables\n",
    "        combinations_list = []\n",
    "\n",
    "        for i in range(total_combinations):\n",
    "            bin_equivalent = bin(i)[2:]\n",
    "            while len(bin_equivalent) < number_of_variables:\n",
    "                bin_equivalent = \"0\" + bin_equivalent\n",
    "            combinations_list.append(tuple(int(val) for val in bin_equivalent))\n",
    "\n",
    "        return combinations_list\n",
    "\n",
    "print(generate_truthtable())\n",
    "\n",
    "#we set the default paramter to 0 and added handling to exit with error if no param is given"
   ]
  },
  {
   "cell_type": "code",
   "execution_count": 83,
   "id": "9f3849e7-7ce6-4a39-bab8-305115007c23",
   "metadata": {},
   "outputs": [
    {
     "name": "stdin",
     "output_type": "stream",
     "text": [
      "Enter the propositional logic expression:  not(A and B) or (A and B)\n"
     ]
    },
    {
     "name": "stdout",
     "output_type": "stream",
     "text": [
      "A B f\n",
      "0 0 True\n",
      "0 1 True\n",
      "1 0 True\n",
      "1 1 1\n"
     ]
    }
   ],
   "source": [
    "#truthtablegenerator.py\n",
    "\n",
    "def generate_truthtable(number_of_variables=0):\n",
    "    if number_of_variables == 0:\n",
    "        return \"You need to enter an integer\"\n",
    "    else:\n",
    "        total_combinations = 2 ** number_of_variables\n",
    "        combinations_list = []\n",
    "\n",
    "        for i in range(total_combinations):\n",
    "            bin_equivalent = bin(i)[2:]\n",
    "            while len(bin_equivalent) < number_of_variables:\n",
    "                bin_equivalent = \"0\" + bin_equivalent\n",
    "            combinations_list.append(tuple(int(val) for val in bin_equivalent))\n",
    "\n",
    "        return combinations_list\n",
    "\n",
    "#new function created\n",
    "\n",
    "def evaluate_propositional_logic(combinations_list):\n",
    "    expression = input(\"Enter the propositional logic expression: \")\n",
    "\n",
    "    if len(combinations_list) == 4: #changed from variable == 2 since we no longer are asking for the variable\n",
    "        print(\"A B f\")\n",
    "        for A, B in combinations_list:\n",
    "            evaluated_expression = eval(expression)\n",
    "            print(A, B, evaluated_expression)\n",
    "    elif len(combinations_list) == 8: #changed from variable == 3 since we no longer are asking for the variable\n",
    "        print(\"A B C f\")\n",
    "        for A, B, C in combinations_list:\n",
    "            evaluated_expression = eval(expression)\n",
    "            print(A, B, C, evaluated_expression)\n",
    "\n",
    "evaluate_propositional_logic(generate_truthtable(2))\n",
    "\n",
    "#there is no need to use the print function when calling evaluate_propositional_logic\n",
    "#because it already calls print within the function\n",
    "\n",
    "#it is better to define and use functions instead of writing code only sequentially\n",
    "#as it 1) allows us to perform the same tasks repeatedly without copying them over and over\n",
    "#2) allows us to make our program go non-linearly - it may perform different functions at diffrent times\n",
    "#instead of just following the set instructions from top to bottom"
   ]
  },
  {
   "cell_type": "code",
   "execution_count": 34,
   "id": "cc30f208-409a-4a94-aedd-70a5c3c256a4",
   "metadata": {},
   "outputs": [
    {
     "name": "stdout",
     "output_type": "stream",
     "text": [
      "((-1+1j), (-1-1j))\n"
     ]
    }
   ],
   "source": [
    "#modules1/mathmodule.py\n",
    "\n",
    "import math\n",
    "\n",
    "def quadratic_formula(a, b, c):\n",
    "    if b**2 - (4*a*c) < 0:\n",
    "        x1 = (complex(-b, math.floor(math.sqrt(abs(b**2-(4*a*c)))))) / (2*a)\n",
    "        x2 = (complex(-b, -1*math.floor(math.sqrt(abs(b**2-(4*a*c)))))) / (2*a)\n",
    "        return x1, x2\n",
    "    else:\n",
    "        x1 = (-b + math.sqrt(b**2 - (4*a*c))) / (2*a)\n",
    "        x2 = (-b - math.sqrt(b**2 - (4*a*c))) / (2*a)\n",
    "        return x1, x2\n",
    "\n",
    "print(quadratic_formula(1,2,3))"
   ]
  },
  {
   "cell_type": "code",
   "execution_count": 36,
   "id": "fbb6ef5e-f905-405b-9d92-96978944a178",
   "metadata": {},
   "outputs": [
    {
     "name": "stdout",
     "output_type": "stream",
     "text": [
      "1.0\n",
      "1.0\n",
      "None\n"
     ]
    }
   ],
   "source": [
    "#mathmodule2.py\n",
    "\n",
    "import math\n",
    "\n",
    "def angle_demo():\n",
    "    angle = math.sin(math.pi/2)\n",
    "\n",
    "    # the default input is in radius\n",
    "    # angle sin(90)-1 in degree == sin(pi/2)=1 in radians\n",
    "    print(angle)\n",
    "\n",
    "    # to make it convenient, convert it to radians\n",
    "    angle = math.sin(math.radians(90))\n",
    "    print(angle)\n",
    "\n",
    "    # this is also similar for cosine and other trigonometric and hyperbolic function.\n",
    "    \n",
    "print(angle_demo())"
   ]
  },
  {
   "cell_type": "code",
   "execution_count": 38,
   "id": "9c6151d9-f5e5-416a-99cb-7baefc988080",
   "metadata": {},
   "outputs": [
    {
     "name": "stdout",
     "output_type": "stream",
     "text": [
      "The program will end in 10...\n",
      "The program will end in 9...\n",
      "The program will end in 8...\n",
      "The program will end in 7...\n",
      "The program will end in 6...\n",
      "The program will end in 5...\n",
      "The program will end in 4...\n",
      "The program will end in 3...\n",
      "The program will end in 2...\n",
      "The program will end in 1...\n",
      "03:46 PM\n",
      "Sep 15 2024\n"
     ]
    }
   ],
   "source": [
    "#dateandtime.py\n",
    "\n",
    "import time\n",
    "\n",
    "def pause():\n",
    "    for i in range(10, 0, -1):\n",
    "        print(f\"The program will end in {i}...\")\n",
    "        time.sleep(1)\n",
    "    \n",
    "def current_time():\n",
    "    t = time.strftime(\"%I:%M %p\")\n",
    "    return t\n",
    "\n",
    "def current_date():\n",
    "    d = time.strftime(\"%b %d %Y\")\n",
    "    return d\n",
    "\n",
    "pause()\n",
    "print(current_time())\n",
    "print(current_date())\n"
   ]
  },
  {
   "cell_type": "code",
   "execution_count": 40,
   "id": "c303b380-89b8-4613-8f4c-b38dd9d77c8a",
   "metadata": {},
   "outputs": [
    {
     "ename": "ModuleNotFoundError",
     "evalue": "No module named 'dateandtime'",
     "output_type": "error",
     "traceback": [
      "\u001b[1;31m---------------------------------------------------------------------------\u001b[0m",
      "\u001b[1;31mModuleNotFoundError\u001b[0m                       Traceback (most recent call last)",
      "Cell \u001b[1;32mIn[40], line 3\u001b[0m\n\u001b[0;32m      1\u001b[0m \u001b[38;5;66;03m#main.py\u001b[39;00m\n\u001b[1;32m----> 3\u001b[0m \u001b[38;5;28;01mimport\u001b[39;00m \u001b[38;5;21;01mdateandtime\u001b[39;00m\n\u001b[0;32m      5\u001b[0m \u001b[38;5;28mprint\u001b[39m(\u001b[38;5;124m\"\u001b[39m\u001b[38;5;124mThe current time is \u001b[39m\u001b[38;5;124m\"\u001b[39m, dateandtime\u001b[38;5;241m.\u001b[39mcurrent_time())\n",
      "\u001b[1;31mModuleNotFoundError\u001b[0m: No module named 'dateandtime'"
     ]
    }
   ],
   "source": [
    "#main.py\n",
    "\n",
    "import dateandtime\n",
    "\n",
    "print(\"The current time is \", dateandtime.current_time())"
   ]
  },
  {
   "cell_type": "code",
   "execution_count": 50,
   "id": "01608de1-5ef6-4f54-8c5e-92f93e6cbd75",
   "metadata": {},
   "outputs": [
    {
     "name": "stdout",
     "output_type": "stream",
     "text": [
      "C:\\Users\\Ken\\PSMDSRC103\\module3\\modules1\n"
     ]
    }
   ],
   "source": [
    "%cd C:\\Users\\Ken\\PSMDSRC103\\module3\\modules1"
   ]
  },
  {
   "cell_type": "code",
   "execution_count": 52,
   "id": "a86a0962-38d4-498b-8b59-88432954d5de",
   "metadata": {},
   "outputs": [
    {
     "data": {
      "text/plain": [
       "'C:\\\\Users\\\\Ken\\\\PSMDSRC103\\\\module3\\\\modules1'"
      ]
     },
     "execution_count": 52,
     "metadata": {},
     "output_type": "execute_result"
    }
   ],
   "source": [
    "%pwd\n"
   ]
  },
  {
   "cell_type": "code",
   "execution_count": 57,
   "id": "9389058b-337c-42f2-bd3a-5744e1124a4c",
   "metadata": {},
   "outputs": [
    {
     "name": "stdout",
     "output_type": "stream",
     "text": [
      "The current time is  03:52 PM\n"
     ]
    }
   ],
   "source": [
    "#main.py\n",
    "#changed working directory to find dateandtime.py\n",
    "\n",
    "import dateandtime\n",
    "\n",
    "print(\"The current time is \", dateandtime.current_time())"
   ]
  },
  {
   "cell_type": "code",
   "execution_count": 61,
   "id": "5cdf1054-74cb-408c-8d44-509346a5c31d",
   "metadata": {},
   "outputs": [
    {
     "name": "stdout",
     "output_type": "stream",
     "text": [
      "The current time is  03:54 PM\n",
      "The current date is  Sep 15 2024\n"
     ]
    }
   ],
   "source": [
    "#main.py\n",
    "import dateandtime\n",
    "\n",
    "print(\"The current time is \", dateandtime.current_time())\n",
    "print(\"The current date is \", dateandtime.current_date())"
   ]
  },
  {
   "cell_type": "code",
   "execution_count": 65,
   "id": "33192a69-e4c5-4f59-bef2-ba0f97921b83",
   "metadata": {},
   "outputs": [
    {
     "name": "stdout",
     "output_type": "stream",
     "text": [
      "The current time is  03:55 PM\n",
      "The current date is  Sep 15 2024\n"
     ]
    }
   ],
   "source": [
    "#main.py\n",
    "#enhance import to remove redundancy\n",
    "\n",
    "from dateandtime import current_time, current_date\n",
    "\n",
    "print(\"The current time is \", current_time())\n",
    "print(\"The current date is \", current_date())"
   ]
  },
  {
   "cell_type": "code",
   "execution_count": null,
   "id": "fb4c8f67-1b17-4bac-81ee-46d40f2055b8",
   "metadata": {},
   "outputs": [],
   "source": [
    "#End of seatwork"
   ]
  }
 ],
 "metadata": {
  "kernelspec": {
   "display_name": "Python 3 (ipykernel)",
   "language": "python",
   "name": "python3"
  },
  "language_info": {
   "codemirror_mode": {
    "name": "ipython",
    "version": 3
   },
   "file_extension": ".py",
   "mimetype": "text/x-python",
   "name": "python",
   "nbconvert_exporter": "python",
   "pygments_lexer": "ipython3",
   "version": "3.12.4"
  }
 },
 "nbformat": 4,
 "nbformat_minor": 5
}
