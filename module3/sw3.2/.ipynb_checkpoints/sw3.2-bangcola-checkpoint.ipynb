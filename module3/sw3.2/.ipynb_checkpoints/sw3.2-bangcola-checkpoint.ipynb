{
 "cells": [
  {
   "cell_type": "code",
   "execution_count": 1,
   "id": "3d153440-9c8c-4749-aac3-f4dcd82ceb8a",
   "metadata": {},
   "outputs": [
    {
     "name": "stdout",
     "output_type": "stream",
     "text": [
      "{'name': 'Roman', 'age': 22, 'salary': 1234, 'id': '0001'}\n"
     ]
    }
   ],
   "source": [
    "class class1():\n",
    "    # This is just a sample for class\n",
    "    pass\n",
    "\n",
    "class employee():\n",
    "    def __init__(self, name, age, emp_id, salary):\n",
    "        self.name = name\n",
    "        self.age = age\n",
    "        self.salary = salary\n",
    "        self.id = emp_id\n",
    "\n",
    "emp1 = employee('Roman', 22, '0001', 1234)\n",
    "emp2 = employee('Richard', 23, '0002', 2345)\n",
    "\n",
    "print(emp1.__dict__)"
   ]
  },
  {
   "cell_type": "code",
   "execution_count": null,
   "id": "08cde0ae-d1b3-4db2-945a-15e6479fa963",
   "metadata": {},
   "outputs": [],
   "source": [
    "\"\"\"\n",
    "In the above snippet, we created a class, class1, and another called employee like \n",
    "we did before. We created a constructor for employee and created 2 instances\n",
    "called emp1 and emp2. If we use the hidden method __dict__, we can print all the \n",
    "attributes of a class.\n",
    "\"\"\""
   ]
  },
  {
   "cell_type": "code",
   "execution_count": 3,
   "id": "0528c41d-3bf9-4cfb-b3a7-509961690c0f",
   "metadata": {},
   "outputs": [
    {
     "name": "stdout",
     "output_type": "stream",
     "text": [
      "Roman 0\n",
      "PART TIME EMPLOYEE\n",
      "Richard 1\n",
      "PART TIME EMPLOYEE\n"
     ]
    }
   ],
   "source": [
    "class employee():\n",
    "    emp_id = 0\n",
    "\n",
    "    def __init__(self, name, age, salary):\n",
    "        self.name = name\n",
    "        self.age = age\n",
    "        temp_id = employee.emp_id\n",
    "        employee.emp_id += 1\n",
    "        self.id = temp_id\n",
    "\n",
    "    def printDetails(self):\n",
    "        print(self.name, self.id)\n",
    "\n",
    "class partTime(employee):\n",
    "\n",
    "    def status_PT(self):\n",
    "        self.printDetails()\n",
    "        print(\"PART TIME EMPLOYEE\")\n",
    "\n",
    "emp1 = partTime('Roman', 22, 1234.00)\n",
    "emp2 = partTime('Richard', 23, 2345.00)\n",
    "\n",
    "emp1.status_PT()\n",
    "emp2.status_PT()"
   ]
  },
  {
   "cell_type": "code",
   "execution_count": 5,
   "id": "e84fd128-cb8c-4cbf-9ed7-938065bf316d",
   "metadata": {},
   "outputs": [
    {
     "data": {
      "text/plain": [
       "'\\nHere we have the same employee class but with a new method to print its name and id. \\nWe also have a new class, partTime, with the previous employee class passed to it \\nduring its declaration. This is an example of inheritance: the partTime class will\\nreceive all the attributes and methods of the employee class plus its own attributes \\nand methods. Since it has the same attributes as the employee class, we create an \\ninstance of partTime the same way we do with employee.\\n'"
      ]
     },
     "execution_count": 5,
     "metadata": {},
     "output_type": "execute_result"
    }
   ],
   "source": [
    "\"\"\"\n",
    "Here we have the same employee class but with a new method to print its name and id. \n",
    "We also have a new class, partTime, with the previous employee class passed to it \n",
    "during its declaration. This is an example of inheritance: the partTime class will\n",
    "receive all the attributes and methods of the employee class plus its own attributes \n",
    "and methods. Since it has the same attributes as the employee class, we create an \n",
    "instance of partTime the same way we do with employee.\n",
    "\"\"\""
   ]
  },
  {
   "cell_type": "code",
   "execution_count": 7,
   "id": "4c019895-2d6e-4b50-9ea9-345ce8cc6f6f",
   "metadata": {},
   "outputs": [
    {
     "name": "stdout",
     "output_type": "stream",
     "text": [
      "Roman 0\n",
      "Roman 23\n",
      "PROFESSIONAL ID: 0\n",
      "EMPLOYEE ID: 0 \n",
      "\n",
      "Richard 1\n",
      "Richard 29\n",
      "PROFESSIONAL ID: 1\n",
      "EMPLOYEE ID: 1 \n",
      "\n"
     ]
    }
   ],
   "source": [
    "class employee():\n",
    "    emp_id = 0\n",
    "\n",
    "    def __init__(self, name, age, salary):\n",
    "        self.name = name\n",
    "        self.age = age\n",
    "        temp_id = employee.emp_id\n",
    "        employee.emp_id += 1\n",
    "        self.id = temp_id\n",
    "\n",
    "    def printDetails(self):\n",
    "        print(self.name, self.id)\n",
    "\n",
    "class professional():\n",
    "    prc_id = 0\n",
    "\n",
    "    def __init__(self, name, age):\n",
    "        self.name = name\n",
    "        self.age = age\n",
    "        self.pro_id = self.getID()\n",
    "\n",
    "    def getID(self):\n",
    "        temp_id = professional.prc_id\n",
    "        professional.prc_id += 1\n",
    "        self.pro_id = temp_id\n",
    "        return str(self.pro_id)\n",
    "\n",
    "class consultant(employee, professional):\n",
    "\n",
    "    def status(self):\n",
    "        print(self.name, self.age)\n",
    "        print(\"PROFESSIONAL ID: {}\".format(self.getID()))\n",
    "        print(\"EMPLOYEE ID: {}\".format(self.id), '\\n')\n",
    "\n",
    "consultant1 = consultant('Roman', 23, 1234.00)\n",
    "consultant1.printDetails()\n",
    "consultant1.status()\n",
    "\n",
    "consultant2 = consultant('Richard', 29, 2345.00)\n",
    "consultant2.printDetails()\n",
    "consultant2.status()"
   ]
  },
  {
   "cell_type": "code",
   "execution_count": null,
   "id": "146b8ceb-e48b-4e4e-a678-434666df0646",
   "metadata": {},
   "outputs": [],
   "source": [
    "\"\"\"\n",
    "We have the same employee class and a new professional class that is not inherited.\n",
    "There is also a new class called consultant which is inherited from two classes:\n",
    "employee and professional. As such, it will inherit attributes and methods from\n",
    "both classes. It has its own unique method status, which is dependent on the getID()\n",
    "method of professional. This shows that an inherited class also receives the methods\n",
    "of its parent.\n",
    "\"\"\""
   ]
  },
  {
   "cell_type": "code",
   "execution_count": 9,
   "id": "918c667c-5fc5-4cf8-86ac-69a4a4744c9a",
   "metadata": {},
   "outputs": [
    {
     "name": "stdout",
     "output_type": "stream",
     "text": [
      "No Valid Dept ID Set.\n"
     ]
    },
    {
     "name": "stdin",
     "output_type": "stream",
     "text": [
      "Input new ID:  1011\n"
     ]
    },
    {
     "name": "stdout",
     "output_type": "stream",
     "text": [
      "Employee 0 is now supervising.\n"
     ]
    }
   ],
   "source": [
    "class employee():\n",
    "    emp_id = 0\n",
    "\n",
    "    def __init__(self, name, age, salary):\n",
    "        self.name = name\n",
    "        self.age = age\n",
    "        self.salary = salary\n",
    "        self.id = self.setEmpID()\n",
    "\n",
    "    def printDetails(self):\n",
    "        print(self.name, self.id)\n",
    "\n",
    "    def setEmpID(self):\n",
    "        temp_id = employee.emp_id\n",
    "        employee.emp_id += 1\n",
    "        return temp_id\n",
    "\n",
    "class middle(employee):\n",
    "\n",
    "    def __init__(self, name, age, salary):\n",
    "        self.name = name\n",
    "        self.age = age\n",
    "        self.salary = salary\n",
    "        self.id = self.setEmpID()\n",
    "        self.deptID = self.setDept()\n",
    "\n",
    "    def setDept(self, newID=None):\n",
    "        if newID == None:\n",
    "            print(\"No Valid Dept ID Set.\")\n",
    "            self.deptID = int(input(\"Input new ID: \"))\n",
    "        else:\n",
    "            self.deptID = newID\n",
    "            print(\"Department ID Set.\\n\")\n",
    "\n",
    "    def status(self):\n",
    "        print(\"{} has ID No. {}\".format(self.name, self.id))\n",
    "\n",
    "class supervisor(middle):\n",
    "\n",
    "    def supervise(self):\n",
    "        print(\"Employee {} is now supervising.\".format(self.id))\n",
    "\n",
    "supervisor1 = supervisor('Roman', 29, 1234.00)\n",
    "supervisor1.supervise()"
   ]
  },
  {
   "cell_type": "code",
   "execution_count": null,
   "id": "daea037a-c3cd-4af0-ad61-929cd5846527",
   "metadata": {},
   "outputs": [],
   "source": [
    "\"\"\"\n",
    "We have the same employee class but with a new attribute id and a new method \n",
    "setEmpID to generate this id. Interestingly, the value of the id attribute\n",
    "is set to the result of the setEmpID method - this means that it is system-generated\n",
    "and is not from user input. We also have a new attribute called emp_id. which is set to 0.\n",
    "This works with the setEmpID method to generate an id. Notice that in setEmpID, it \n",
    "doesn't use self.emp_id but it uses employee.emp_id. This means that everytime a\n",
    "new employee instance is created, it will refer back to the emp_id value in employee \n",
    "and not its own value. This means that emp_id will act as a sort of global variable\n",
    "for all instances of employee.\n",
    "\n",
    "We then have a new class middle, which is a child of employee. Even though both have \n",
    "name, age, and salary, these were declared again in the constructor of middle. This \n",
    "means that the same redeclared attributes will have their own values and not be \n",
    "inherited from employee.\n",
    "\n",
    "There is the new class supervisor, which inherits from middle. Since middle inherits \n",
    "from employee, this means that supervisor will now have the attributes and methods of\n",
    "both middle and employee.\n",
    "\"\"\""
   ]
  },
  {
   "cell_type": "code",
   "execution_count": 13,
   "id": "55d1c37e-a9a1-4941-8840-fee24be72f59",
   "metadata": {},
   "outputs": [
    {
     "name": "stdout",
     "output_type": "stream",
     "text": [
      "No Valid Dept ID Set.\n"
     ]
    },
    {
     "name": "stdin",
     "output_type": "stream",
     "text": [
      "Input new ID:  101\n"
     ]
    },
    {
     "name": "stdout",
     "output_type": "stream",
     "text": [
      "No Valid Dept ID Set.\n"
     ]
    },
    {
     "name": "stdin",
     "output_type": "stream",
     "text": [
      "Input new ID:  102\n"
     ]
    },
    {
     "name": "stdout",
     "output_type": "stream",
     "text": [
      "Roman has ID No. 0\n",
      "Top: Richard has ID No. 1\n",
      "Help on class top in module __main__:\n",
      "\n",
      "class top(employee)\n",
      " |  top(name, age, salary)\n",
      " |\n",
      " |  Method resolution order:\n",
      " |      top\n",
      " |      employee\n",
      " |      builtins.object\n",
      " |\n",
      " |  Methods defined here:\n",
      " |\n",
      " |  __init__(self, name, age, salary)\n",
      " |      Initialize self.  See help(type(self)) for accurate signature.\n",
      " |\n",
      " |  setDept(self, newID=None)\n",
      " |\n",
      " |  status(self)\n",
      " |\n",
      " |  ----------------------------------------------------------------------\n",
      " |  Methods inherited from employee:\n",
      " |\n",
      " |  printDetails(self)\n",
      " |\n",
      " |  setEmpID(self)\n",
      " |\n",
      " |  ----------------------------------------------------------------------\n",
      " |  Data descriptors inherited from employee:\n",
      " |\n",
      " |  __dict__\n",
      " |      dictionary for instance variables\n",
      " |\n",
      " |  __weakref__\n",
      " |      list of weak references to the object\n",
      " |\n",
      " |  ----------------------------------------------------------------------\n",
      " |  Data and other attributes inherited from employee:\n",
      " |\n",
      " |  emp_id = 2\n",
      "\n",
      "None\n"
     ]
    }
   ],
   "source": [
    "class employee():\n",
    "    emp_id = 0\n",
    "\n",
    "    def __init__(self, name, age, salary):\n",
    "        self.name = name\n",
    "        self.age = age\n",
    "        self.salary = salary\n",
    "        self.id = self.setEmpID()\n",
    "\n",
    "    def printDetails(self):\n",
    "        print(self.name, self.id)\n",
    "\n",
    "    def setEmpID(self):\n",
    "        temp_id = employee.emp_id\n",
    "        employee.emp_id += 1\n",
    "        return temp_id\n",
    "\n",
    "class middle(employee):\n",
    "\n",
    "    def __init__(self, name, age, salary):\n",
    "        self.name = name\n",
    "        self.age = age\n",
    "        self.salary = salary\n",
    "        self.id = self.setEmpID()\n",
    "        self.deptID = self.setDept()\n",
    "\n",
    "    def setDept(self, newID=None):\n",
    "        if newID == None:\n",
    "            print(\"No Valid Dept ID Set.\")\n",
    "            self.deptID = int(input(\"Input new ID: \"))\n",
    "        else:\n",
    "            self.deptID = newID\n",
    "            print(\"Department ID Set.\\n\")\n",
    "\n",
    "    def status(self):\n",
    "        print(\"{} has ID No. {}\".format(self.name, self.id))\n",
    "\n",
    "class top(employee):\n",
    "\n",
    "    def __init__(self, name, age, salary):\n",
    "        self.name = name\n",
    "        self.age = age\n",
    "        self.salary = salary\n",
    "        self.id = self.setEmpID()\n",
    "        self.deptID = self.setDept()\n",
    "\n",
    "    def setDept(self, newID=None):\n",
    "        if newID == None:\n",
    "            print(\"No Valid Dept ID Set.\")\n",
    "            self.deptID = int(input(\"Input new ID: \"))\n",
    "        else:\n",
    "            self.deptID = newID\n",
    "            print(\"Department ID Set.\\n\")\n",
    "\n",
    "    def status(self):\n",
    "        print(\"Top: {} has ID No. {}\".format(self.name, self.id))\n",
    "\n",
    "emp1 = middle('Roman', 29, 1234.00)\n",
    "emp2 = top('Richard', 29, 2345.00)\n",
    "\n",
    "emp1.status()\n",
    "emp2.status()\n",
    "\n",
    "print(help(top))"
   ]
  },
  {
   "cell_type": "code",
   "execution_count": null,
   "id": "03f21d80-7af9-4a2d-a05d-7468dd3b9e6d",
   "metadata": {},
   "outputs": [],
   "source": [
    "\"\"\"\"\n",
    "We now have the same employee and middle classes. We now have a new top class\n",
    "as well. Since top has its own attributes defined, it actually did not inherit\n",
    "the same attributes from either middle or employee. This is verified using the \n",
    "help() command to display its inheritance order.\n",
    "\"\"\""
   ]
  },
  {
   "cell_type": "code",
   "execution_count": 17,
   "id": "e30b9226-6597-48f7-9d0b-6dfb172feacc",
   "metadata": {},
   "outputs": [
    {
     "name": "stdout",
     "output_type": "stream",
     "text": [
      "No Valid Dept ID Set.\n"
     ]
    },
    {
     "name": "stdin",
     "output_type": "stream",
     "text": [
      "Input new ID:  101\n"
     ]
    },
    {
     "name": "stdout",
     "output_type": "stream",
     "text": [
      "1234.0\n",
      "Help on class top in module __main__:\n",
      "\n",
      "class top(employee)\n",
      " |  top(name, age, salary)\n",
      " |\n",
      " |  Method resolution order:\n",
      " |      top\n",
      " |      employee\n",
      " |      builtins.object\n",
      " |\n",
      " |  Methods defined here:\n",
      " |\n",
      " |  __init__(self, name, age, salary)\n",
      " |      Initialize self.  See help(type(self)) for accurate signature.\n",
      " |\n",
      " |  printDetails(self)\n",
      " |\n",
      " |  printSalary(self)\n",
      " |\n",
      " |  setDept(self, newID=None)\n",
      " |\n",
      " |  status(self)\n",
      " |\n",
      " |  ----------------------------------------------------------------------\n",
      " |  Methods inherited from employee:\n",
      " |\n",
      " |  setEmpID(self)\n",
      " |\n",
      " |  ----------------------------------------------------------------------\n",
      " |  Data descriptors inherited from employee:\n",
      " |\n",
      " |  __dict__\n",
      " |      dictionary for instance variables\n",
      " |\n",
      " |  __weakref__\n",
      " |      list of weak references to the object\n",
      " |\n",
      " |  ----------------------------------------------------------------------\n",
      " |  Data and other attributes inherited from employee:\n",
      " |\n",
      " |  emp_id = 1\n",
      "\n",
      "None\n"
     ]
    }
   ],
   "source": [
    "class employee():\n",
    "    emp_id = 0\n",
    "\n",
    "    def __init__(self, name, age, salary):\n",
    "        self.name = name\n",
    "        self.age = age\n",
    "        self.salary = salary\n",
    "        self.id = self.setEmpID()\n",
    "\n",
    "    def printDetails(self):\n",
    "        print(self.name, self.id)\n",
    "\n",
    "    def setEmpID(self):\n",
    "        temp_id = employee.emp_id\n",
    "        employee.emp_id += 1\n",
    "        return temp_id\n",
    "        \n",
    "class middle(employee):\n",
    "\n",
    "    def __init__(self, name, age, salary):\n",
    "        self.name = name\n",
    "        self.age = age\n",
    "        self.salary = salary\n",
    "        self.id = self.setEmpID()\n",
    "        self.deptID = self.setDept()\n",
    "\n",
    "    def printDetails(self):\n",
    "        print(\"MIDDLE:\")\n",
    "        print(self.name, self.id)\n",
    "\n",
    "    def setDept(self, newID=None):\n",
    "        if newID == None:\n",
    "            print(\"No Valid Dept ID Set.\")\n",
    "            self.deptID = int(input(\"Input new ID: \"))\n",
    "        else:\n",
    "            self.deptID = newID\n",
    "            print(\"Department ID Set.\\n\")\n",
    "\n",
    "    def status(self):\n",
    "        print(\"Middle: {} has ID No. {}\".format(self.name, self.id))\n",
    "\n",
    "class top(employee):\n",
    "\n",
    "    def __init__(self, name, age, salary):\n",
    "        self.name = name\n",
    "        self.age = age\n",
    "        self.salary = salary\n",
    "        self.id = self.setEmpID()\n",
    "        self.deptID = self.setDept()\n",
    "\n",
    "    def printDetails(self):\n",
    "        print(\"TOP:\")\n",
    "        print(self.name, self.id)\n",
    "\n",
    "    def setDept(self, newID=None):\n",
    "        if newID == None:\n",
    "            print(\"No Valid Dept ID Set.\")\n",
    "            self.deptID = int(input(\"Input new ID: \"))\n",
    "        else:\n",
    "            self.deptID = newID\n",
    "            print(\"Department ID Set.\\n\")\n",
    "\n",
    "    def status(self):\n",
    "        print(\"Top: {} has ID No. {}\".format(self.name, self.id))\n",
    "\n",
    "    def printSalary(self):\n",
    "        print(self.salary)\n",
    "\n",
    "emp1 = top('Roman', 29, 1234.00)\n",
    "emp1.printSalary()\n",
    "print(help(top))\n"
   ]
  },
  {
   "cell_type": "code",
   "execution_count": 19,
   "id": "5b8be557-63cb-477c-a59c-cc1ed083a539",
   "metadata": {},
   "outputs": [
    {
     "ename": "SyntaxError",
     "evalue": "incomplete input (969763094.py, line 1)",
     "output_type": "error",
     "traceback": [
      "\u001b[1;36m  Cell \u001b[1;32mIn[19], line 1\u001b[1;36m\u001b[0m\n\u001b[1;33m    \"\"\"\u001b[0m\n\u001b[1;37m    ^\u001b[0m\n\u001b[1;31mSyntaxError\u001b[0m\u001b[1;31m:\u001b[0m incomplete input\n"
     ]
    }
   ],
   "source": [
    "\"\"\"\n",
    "Obervationn\n",
    "\"\"\""
   ]
  },
  {
   "cell_type": "code",
   "execution_count": 70,
   "id": "ce57a560-5eb0-4385-832d-3f99fc71c075",
   "metadata": {},
   "outputs": [
    {
     "name": "stdout",
     "output_type": "stream",
     "text": [
      "_student__firstName: Juan\n",
      "_student__lastName: De la Cruz\n",
      "yearLevel: 2\n",
      "course: BSIT\n",
      "_student__idNum: 0\n",
      "Error: course not in master course list\n",
      "_student__firstName: Redford\n",
      "_student__lastName: White\n",
      "yearLevel: 4\n",
      "course: None\n",
      "_student__idNum: 0\n"
     ]
    }
   ],
   "source": [
    "\"\"\"\n",
    "Exercises:\n",
    "\n",
    "Question 1: Methods can be of two types, getters and setters. Getters take values by parameter \n",
    "passing and setters set values in the given class.\n",
    "\n",
    "Create a class student with appropriate attributes.\n",
    "Create getter and setter methods for it.\n",
    "Note: Take into account that the student's ID number, name, and other important details \n",
    "must not be publicly available. It must only be accessed by appropriate class methods.\n",
    "\n",
    "\"\"\"\n",
    "#sample list of courses\n",
    "courses = ['BSIT','BSME','BSMIS']\n",
    "\n",
    "class student():\n",
    "    global_idNum = 0\n",
    "    \n",
    "    def __init__(self, firstName, lastName, yearLevel, course):\n",
    "        self.__firstName = self.set_name(firstName)\n",
    "        self.__lastName = self.set_name(lastName)\n",
    "        self.yearLevel = self.set_yearLevel(yearLevel)\n",
    "        self.course = self.set_course(course)\n",
    "        self.__idNum = self.set_studentID()\n",
    "\n",
    "    #setter methods for data quality\n",
    "    def set_name(self, name):\n",
    "        if len(name) <= 0:\n",
    "            print(\"Error: name must not be empty.\")\n",
    "        else:\n",
    "            try:\n",
    "                return name\n",
    "            except ValueError:\n",
    "                print(\"Error: name must be a string.\")\n",
    "\n",
    "    def set_yearLevel(self, yearLevel):\n",
    "        if isinstance(yearLevel, int):\n",
    "            if yearLevel >= 1:\n",
    "                return yearLevel\n",
    "            else:\n",
    "                print(\"Error: Year level must be greater than 0!\")\n",
    "        else:\n",
    "            print(\"Error: year level must be an integer!\")\n",
    "\n",
    "    def set_course(self, course):\n",
    "        if course in courses:\n",
    "            return course\n",
    "        else:\n",
    "            print(\"Error: course not in master course list\")\n",
    "        \n",
    "    def set_studentID(self):\n",
    "        temp_id = student.global_idNum\n",
    "        student.globalidNum =+ 1\n",
    "        return temp_id\n",
    "\n",
    "    #getter methods to display attributes\n",
    "\n",
    "    def get_attributes(self):\n",
    "        for x in self.__dict__:\n",
    "            print(x + \": \" + str(self.__dict__[x]))\n",
    "\n",
    "student1 = student('Juan','De la Cruz',2,'BSIT')\n",
    "student1.get_attributes()\n",
    "\n",
    "student2 = student('Redford','White',4,'BSCOE')\n",
    "student2.get_attributes()"
   ]
  },
  {
   "cell_type": "code",
   "execution_count": 114,
   "id": "1e21c3c9-1058-4628-b19a-d6a56e9ed61f",
   "metadata": {},
   "outputs": [
    {
     "name": "stdout",
     "output_type": "stream",
     "text": [
      "_undergrad__firstName: Juan\n",
      "_undergrad__lastName: De la Cruz\n",
      "yearLevel: 2\n",
      "course: BSIT\n",
      "_undergrad__idNum: 0\n",
      "highSchool: Mater Carmeli School\n",
      "Undergrad student Juan has graduated!\n",
      "_graduate__firstName: Juan\n",
      "_graduate__lastName: De la Cruz\n",
      "yearLevel: 2\n",
      "course: PSMDS\n",
      "_graduate__idNum: 0\n",
      "undergradDegree: BSIT\n",
      "Graduate student Juan is at work...\n"
     ]
    }
   ],
   "source": [
    "\"\"\"\n",
    "Question 2: A graduate student is different from a student in the undergraduate program.\n",
    "\n",
    "Create a class undergrad that derives from the class student.\n",
    "Create a class graduate that derives from the class student.\n",
    "Create appropriate attributes and methods for each derived class.\n",
    "What type of inheritance is shown here?\n",
    "\n",
    "\"\"\"\n",
    "\n",
    "#sample list of courses\n",
    "courses = ['BSIT','BSME','BSMIS','PSMDS','PHDCS']\n",
    "\n",
    "class student():\n",
    "    global_idNum = 0\n",
    "    \n",
    "    def __init__(self, firstName, lastName, yearLevel, course):\n",
    "        self.__firstName = self.set_name(firstName)\n",
    "        self.__lastName = self.set_name(lastName)\n",
    "        self.yearLevel = self.set_yearLevel(yearLevel)\n",
    "        self.course = self.set_course(course)\n",
    "        self.__idNum = self.set_studentID()\n",
    "\n",
    "    #setter methods for data quality\n",
    "    def set_name(self, name):\n",
    "        if len(name) <= 0:\n",
    "            print(\"Error: name must not be empty.\")\n",
    "        else:\n",
    "            try:\n",
    "                return name\n",
    "            except ValueError:\n",
    "                print(\"Error: name must be a string.\")\n",
    "\n",
    "    def set_yearLevel(self, yearLevel):\n",
    "        if isinstance(yearLevel, int):\n",
    "            if yearLevel >= 1:\n",
    "                return yearLevel\n",
    "            else:\n",
    "                print(\"Error: Year level must be greater than 0!\")\n",
    "        else:\n",
    "            print(\"Error: year level must be an integer!\")\n",
    "\n",
    "    def set_course(self, course):\n",
    "        if course in courses:\n",
    "            return course\n",
    "        else:\n",
    "            print(\"Error: course not in master course list\")\n",
    "        \n",
    "    def set_studentID(self):\n",
    "        temp_id = student.global_idNum\n",
    "        student.globalidNum =+ 1\n",
    "        return temp_id\n",
    "\n",
    "    #getter methods to display attributes\n",
    "\n",
    "    def get_attributes(self):\n",
    "        for x in self.__dict__:\n",
    "            print(x + \": \" + str(self.__dict__[x]))\n",
    "\n",
    "class undergrad(student):\n",
    "\n",
    "    def __init__(self, firstName, lastName, yearLevel, course, highSchool):\n",
    "        self.__firstName = self.set_name(firstName)\n",
    "        self.__lastName = self.set_name(lastName)\n",
    "        self.yearLevel = self.set_yearLevel(yearLevel)\n",
    "        self.course = self.set_course(course)\n",
    "        self.__idNum = self.set_studentID()\n",
    "        self.highSchool = highSchool\n",
    "    \n",
    "    def graduate(self):\n",
    "        print(\"Undergrad student \" + self.__firstName + \" has graduated!\")\n",
    "        \n",
    "class graduate(student):\n",
    "\n",
    "    def __init__(self, firstName, lastName, yearLevel, course, undergradDegree):\n",
    "        self.__firstName = self.set_name(firstName)\n",
    "        self.__lastName = self.set_name(lastName)\n",
    "        self.yearLevel = self.set_yearLevel(yearLevel)\n",
    "        self.course = self.set_course(course)\n",
    "        self.__idNum = self.set_studentID()\n",
    "        self.undergradDegree = undergradDegree\n",
    "        \n",
    "    def goToWork(self):\n",
    "        print(\"Graduate student \" + self.__firstName + \" is at work...\")\n",
    "\n",
    "    def graduate(self):\n",
    "        print(\"Graduate student \" + self.__firstName + \" has graduated!\")\n",
    "\n",
    "student1 = undergrad('Juan','De la Cruz',2,'BSIT','Mater Carmeli School')\n",
    "student1.get_attributes()\n",
    "student1.graduateUndergrad()\n",
    "\n",
    "gradStudent1 = graduate('Juan','De la Cruz',2,'PSMDS','BSIT')\n",
    "gradStudent1.get_attributes()\n",
    "gradStudent1.goToWork()"
   ]
  },
  {
   "cell_type": "code",
   "execution_count": 112,
   "id": "3a2cd5b6-5d6f-4ef5-9b86-40df1714d8a0",
   "metadata": {},
   "outputs": [
    {
     "data": {
      "text/plain": [
       "'\\nThe above shows single inheritance, where both undergrad and graduate inherit from one class, student\\n'"
      ]
     },
     "execution_count": 112,
     "metadata": {},
     "output_type": "execute_result"
    }
   ],
   "source": [
    "\"\"\"\n",
    "The above shows single inheritance, where both undergrad and graduate inherit from one class, student\n",
    "\"\"\""
   ]
  },
  {
   "cell_type": "code",
   "execution_count": 121,
   "id": "3be40103-3050-491d-874d-40358ca085bf",
   "metadata": {},
   "outputs": [
    {
     "name": "stdout",
     "output_type": "stream",
     "text": [
      "Doctorate student Juan has graduated!\n"
     ]
    }
   ],
   "source": [
    "\"\"\"\n",
    "Question 3: A graduate student may be in the master's program or the doctorate program. \n",
    "Create the appropriate class for the doctorate program that sets it apart from the rest of the graduate programs.\n",
    "\n",
    "Justify the type of inheritance you used to answer this question.\n",
    "How did you demonstrate polymorphism here?\n",
    "\"\"\"\n",
    "courses = ['BSIT','BSME','BSMIS','PSMDS','PHDCS']\n",
    "\n",
    "class doctorate(graduate):\n",
    "    def __init__(self, firstName, lastName, yearLevel, course, undergradDegree, mastersDegree):\n",
    "        self.__firstName = self.set_name(firstName)\n",
    "        self.__lastName = self.set_name(lastName)\n",
    "        self.yearLevel = self.set_yearLevel(yearLevel)\n",
    "        self.course = self.set_course(course)\n",
    "        self.__idNum = self.set_studentID()\n",
    "        self.undergradDegree = undergradDegree\n",
    "        self.mastersDegree = mastersDegree\n",
    "\n",
    "    def graduate(self):\n",
    "        print(\"Doctorate student \" + self.__firstName + \" has graduated!\")\n",
    "\n",
    "doctorate1 = doctorate('Juan','De la Cruz',2,'PHDCS','BSIT','PSMDS')\n",
    "doctorate1.graduate()"
   ]
  },
  {
   "cell_type": "code",
   "execution_count": 125,
   "id": "e96888ed-5502-4ad3-9387-a95fd56a7e63",
   "metadata": {},
   "outputs": [
    {
     "data": {
      "text/plain": [
       "'\\nWe used multi level inheritance here, with doctorate being a child of\\ngraduate and graduate being a child of student.\\nWe demonstrated polymorphism by usng the method graduate, which has \\ndiifferent outputs dependng if an undergrad, graduate, or doctorate\\nuses it.\\n'"
      ]
     },
     "execution_count": 125,
     "metadata": {},
     "output_type": "execute_result"
    }
   ],
   "source": [
    "\"\"\"\n",
    "We used multi level inheritance here, with doctorate being a child of\n",
    "graduate and graduate being a child of student.\n",
    "We demonstrated polymorphism by usng the method graduate, which has \n",
    "diifferent outputs dependng if an undergrad, graduate, or doctorate\n",
    "uses it.\n",
    "\"\"\""
   ]
  },
  {
   "cell_type": "code",
   "execution_count": 132,
   "id": "cf58cf42-3578-4825-8193-9c5c3dd14161",
   "metadata": {},
   "outputs": [
    {
     "name": "stdout",
     "output_type": "stream",
     "text": [
      "Graduate student Juan is at work...\n",
      "Graduate student Batang is at work...\n",
      "Graduate student Cardo is at work...\n"
     ]
    },
    {
     "ename": "NameError",
     "evalue": "name 'graduate1' is not defined",
     "output_type": "error",
     "traceback": [
      "\u001b[1;31m---------------------------------------------------------------------------\u001b[0m",
      "\u001b[1;31mNameError\u001b[0m                                 Traceback (most recent call last)",
      "Cell \u001b[1;32mIn[132], line 21\u001b[0m\n\u001b[0;32m     18\u001b[0m \u001b[38;5;28;01mdel\u001b[39;00m graduate2\n\u001b[0;32m     19\u001b[0m \u001b[38;5;28;01mdel\u001b[39;00m graduate3\n\u001b[1;32m---> 21\u001b[0m graduate1\u001b[38;5;241m.\u001b[39mgoToWork()\n\u001b[0;32m     22\u001b[0m graduate2\u001b[38;5;241m.\u001b[39mgoToWork()\n\u001b[0;32m     23\u001b[0m graduate3\u001b[38;5;241m.\u001b[39mgoToWork()\n",
      "\u001b[1;31mNameError\u001b[0m: name 'graduate1' is not defined"
     ]
    }
   ],
   "source": [
    "\"\"\"\n",
    "Question 4: Create 3 instances of the master's class.\n",
    "\n",
    "Test all the methods of the class.\n",
    "Use the del command to delete the object after declaration and testing all the methods.\n",
    "Call the same object and test the same methods. Does it work?\n",
    "\"\"\"\n",
    "\n",
    "graduate1  = graduate('Juan','De la Cruz',2,'PSMDS','BSIT')\n",
    "graduate2  = graduate('Batang', 'Quiapo',1,'PSMDS','BSME')\n",
    "graduate3   = graduate('Cardo','Dalisay',3,'PSMDS','BSMIS')\n",
    "\n",
    "graduate1.goToWork()\n",
    "graduate2.goToWork()\n",
    "graduate3.goToWork()\n",
    "\n",
    "del graduate1\n",
    "del graduate2\n",
    "del graduate3\n",
    "\n",
    "graduate1.goToWork()\n",
    "graduate2.goToWork()\n",
    "graduate3.goToWork()"
   ]
  },
  {
   "cell_type": "code",
   "execution_count": null,
   "id": "08987399-73d8-4a15-9122-6c81df7013f0",
   "metadata": {},
   "outputs": [],
   "source": [
    "\"\"\"\n",
    "No, after deletion, its attributes and methods are also deleted.\n",
    "\"\"\""
   ]
  },
  {
   "cell_type": "code",
   "execution_count": null,
   "id": "3b5fb3e0-de5c-4e9e-b840-bb580254e719",
   "metadata": {},
   "outputs": [],
   "source": []
  }
 ],
 "metadata": {
  "kernelspec": {
   "display_name": "Python 3 (ipykernel)",
   "language": "python",
   "name": "python3"
  },
  "language_info": {
   "codemirror_mode": {
    "name": "ipython",
    "version": 3
   },
   "file_extension": ".py",
   "mimetype": "text/x-python",
   "name": "python",
   "nbconvert_exporter": "python",
   "pygments_lexer": "ipython3",
   "version": "3.12.4"
  }
 },
 "nbformat": 4,
 "nbformat_minor": 5
}
