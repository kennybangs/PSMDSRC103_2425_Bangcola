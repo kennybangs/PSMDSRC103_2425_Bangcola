{
 "cells": [
  {
   "cell_type": "code",
   "execution_count": null,
   "id": "90a62e10-3026-4650-8ff5-f949e772d179",
   "metadata": {},
   "outputs": [],
   "source": [
    "#Assignment2.1\n",
    "#By: Karim Bangcola Jr.\n",
    "#Git: "
   ]
  },
  {
   "cell_type": "code",
   "execution_count": null,
   "id": "3c7c8284-e514-4fa6-87be-fcaeb694aa80",
   "metadata": {},
   "outputs": [],
   "source": [
    "\"\"\"\n",
    "\n",
    "Bad Words Censor Program\n",
    "This program accepts two inputs: 1) a list of bad words, and 2) a sentence to be censored\n",
    "It will check the sentence against the list, with the final output being the bad words replaced with '*'\n",
    "\n",
    "It is composed of 2 py files main.py and functions,py\n",
    "main is simply the front-end, looping over the program execution until quit\n",
    "functions holds all the actual working functions\n",
    "\n",
    "\"\"\""
   ]
  },
  {
   "cell_type": "code",
   "execution_count": null,
   "id": "660884e4-2da0-4a98-82ed-b1af5a0537af",
   "metadata": {},
   "outputs": [],
   "source": [
    "\"\"\"\n",
    "functions.py\n",
    "\n",
    "functions involved:\n",
    "\n",
    "    notEmptyCheck(a) = simply checks if input is length > 0. used in inputLoopString\n",
    "    \n",
    "    inputLoopString = loop that accepts an input prompt. it will keep asking the user for a valid input. if not valid,\n",
    "it will loop until the user does.\n",
    "\n",
    "    censorSentence = asks the user for a sentence to censor. if the badWordsList is empty, it will exit. if not,\n",
    "it will iterate through each element of badWordsList, checking if it is in the sentence. if found, it will slice\n",
    "the sentence and loop through each letter of the bad word, replacing it with ' * '\n",
    "\n",
    "    mainMenu = simple function that asks what option to do and calls the appropriate function. this is the only way to\n",
    "quit the program.\n",
    "\n",
    "    inputWords = accepts inputs from the user and stores it in badWordsList\n",
    "\n",
    "    displayWords = displays all the contents of badWOrdsList\n",
    "\n",
    "\"\"\""
   ]
  },
  {
   "cell_type": "code",
   "execution_count": null,
   "id": "60f23eec-5241-4c9e-8e10-6bd77495a1ac",
   "metadata": {},
   "outputs": [],
   "source": [
    "#!/usr/bin/env python3\n",
    "# -*- coding: utf-8 -*-\n",
    "\"\"\"\n",
    "Created on Tue Sep 17 12:12:38 2024\n",
    "\n",
    "@author: kbangcola\n",
    "\"\"\"\n",
    "\n",
    "#initialize badWords\n",
    "badWordsList = []\n",
    "    \n",
    "def notEmptyCheck(a):\n",
    "    return len(str(a)) > 0\n",
    "\n",
    "def inputLoopString(prompt):\n",
    "    \n",
    "    validInput = False #set flag to retry input if input is invalid\n",
    "    \n",
    "    #begin input looop\n",
    "\n",
    "    while validInput == False: \n",
    "        try:\n",
    "            userInput = str(input(prompt))\n",
    "            if notEmptyCheck(userInput): \n",
    "                return userInput\n",
    "                validInput = True\n",
    "            else:\n",
    "                print(\"ERROR: Values must not be not empty.\")\n",
    "        except ValueError:\n",
    "            print (\"ERROR: Input must be a valid string!\") #restrat loop if empty \n",
    "                                \n",
    "    #end input loop\n",
    "    \n",
    "def censor(sentence=''):        \n",
    "    sentence = inputLoopString(\"Input the sentence you want to censor: \").lower()\n",
    "        \n",
    "    if len(badWordsList) <= 0: #check if badwords list is empty\n",
    "        print(\"\\nError: Bad words blacklist empty! Please input some bad words first.\")\n",
    "        print(\"Returning to main menu...\")\n",
    "        mainMenu()\n",
    "    else: #if blacklist is not empty, proceed\n",
    "        tempSentenceCensored = sentence #initialize temp variable for censor loop\n",
    "        \n",
    "        #begin censorship loop\n",
    "        \n",
    "        print(\"\\nCensoring against blacklist...\")\n",
    "        for x in badWordsList: #loop through each word in the blacklist\n",
    "            #debug\n",
    "            #print(\"Now censoring \" + x)\n",
    "            if tempSentenceCensored.find(x) == -1: #if bad word not found in setence, skip it\n",
    "                #debug\n",
    "                print(x + \"not found. Skipping.\")\n",
    "                pass \n",
    "            else:\n",
    "                #debug\n",
    "                #print(x + \" found. Censoring...\")\n",
    "                #print(\"Sentence to censor: \" + tempSentenceCensored)\n",
    "                \n",
    "                beginBadWord = sentence.find(x) #return start of bad word in sentence\n",
    "                endBadWord = beginBadWord+len(x) #ending of bad word in sentence\n",
    "                \n",
    "                #debug \n",
    "                #print(\"Beginning of bad word: \" + str(beginBadWord))\n",
    "                #print(\"Ending of bad word: \" + str(endBadWord))\n",
    "                \n",
    "                for y in range(len(x)): #loop through each char of the word to replace with *\n",
    "                    #print(\"Substituting character #\" + str(y) + \" at position \" + str(beginBadWord + y)) \n",
    "                    tempSentenceCensored = tempSentenceCensored[:beginBadWord + y] + '*' + sentence[endBadWord:]                    \n",
    "                    #print(tempSentenceCensored)\n",
    "                \n",
    "                sentence = tempSentenceCensored #sasve the temp sentence as the final sentence\n",
    "                \n",
    "        #end censorship loop        \n",
    "        \n",
    "        print(\"\\nYour censored sentence is: \")\n",
    "        print(sentence)\n",
    "                            \n",
    "            #debug stuff\n",
    "            #print(beginBadWord) #need to add case when word not found\n",
    "            #print(endBadWord)\n",
    "            #print(sentence[:beginBadWord])\n",
    "            #sentenceCensored = sentence[beginBadWord:(beginBadWord+len(x))]\n",
    "            #print(sentenceCensored)\n",
    "                                \n",
    "def mainMenu():\n",
    "    print(\"\\nWhat would you like to do today? Input the number of your choice:\")\n",
    "    print(\"\\n1 to censor a sentence, \\n2 to add words to the blacklist, \\n3 to view the blacklist, \\n4 to quit the program.\")\n",
    "    menuInput = int(input((\"\\nPlease select an option: \" )))\n",
    "    \n",
    "    if menuInput == 1:\n",
    "        censor()\n",
    "    elif menuInput == 2:\n",
    "        inputWords()\n",
    "    elif menuInput == 3:\n",
    "        displayWords() \n",
    "    elif menuInput == 4:\n",
    "        raise SystemExit #quit the program\n",
    "    else:\n",
    "        print(\"\\nSorry, invalid input. Please try again!\")\n",
    "        mainMenu()\n",
    "\n",
    "def inputWords():\n",
    "    print(\"\\n-- Bad word input module --\")\n",
    "    print(\"Current list of bad words to censor: \")\n",
    "    \n",
    "    displayWords()\n",
    "    \n",
    "    print(\"\\nNow inputting bad words to blacklist. Input your word and press Enter. To quit input, type 'done' and press enter.\")\n",
    "           \n",
    "    #begin input looop\n",
    "    \n",
    "    validInput = False #set flag to continue input loop\n",
    "    \n",
    "    while validInput == False: \n",
    "        userInput = str(input(\"\\nPlease input bad word [input 'done' to finish inputting.']: \"))\n",
    "        if notEmptyCheck(userInput): #check first if input is not empty\n",
    "            if userInput.lower() != 'done': #check if user wants to quit input\n",
    "                badWordsList.append(userInput)\n",
    "                print(\"Added word \" + userInput +\" to blacklist.\")\n",
    "            else: #exit loop if input is string and not empty\n",
    "                validInput = True\n",
    "        else: #restart loop if input is empty\n",
    "            print(\"ERROR: Input must not be not empty.\")\n",
    "    \n",
    "    #return to main menu\n",
    "    print(\"\\nReturning to main menu.\")\n",
    "    \n",
    "def displayWords():\n",
    "    print(\"\\n--START OF BAD WORDS BLACKLIST--\")\n",
    "    \n",
    "    for x in badWordsList: \n",
    "        print(\"\\n\" + x)\n",
    "        \n",
    "    print(\"\\n--END OF BAD WORDS BLACKLIST--\")\n"
   ]
  },
  {
   "cell_type": "code",
   "execution_count": 2,
   "id": "43433398-1dec-44d1-b9fd-bc070c3a41df",
   "metadata": {},
   "outputs": [
    {
     "name": "stdout",
     "output_type": "stream",
     "text": [
      "\n",
      "What would you like to do today? Input the number of your choice:\n",
      "\n",
      "1 to censor a sentence, \n",
      "2 to add words to the blacklist, \n",
      "3 to view the blacklist, \n",
      "4 to quit the program.\n"
     ]
    },
    {
     "name": "stdin",
     "output_type": "stream",
     "text": [
      "\n",
      "Please select an option:  2\n"
     ]
    },
    {
     "name": "stdout",
     "output_type": "stream",
     "text": [
      "\n",
      "-- Bad word input module --\n",
      "Current list of bad words to censor: \n",
      "\n",
      "--START OF BAD WORDS BLACKLIST--\n",
      "\n",
      "--END OF BAD WORDS BLACKLIST--\n",
      "\n",
      "Now inputting bad words to blacklist. Input your word and press Enter. To quit input, type 'done' and press enter.\n"
     ]
    },
    {
     "name": "stdin",
     "output_type": "stream",
     "text": [
      "\n",
      "Please input bad word [input 'done' to finish inputting.']:  fuck\n"
     ]
    },
    {
     "name": "stdout",
     "output_type": "stream",
     "text": [
      "Added word fuck to blacklist.\n"
     ]
    },
    {
     "name": "stdin",
     "output_type": "stream",
     "text": [
      "\n",
      "Please input bad word [input 'done' to finish inputting.']:  shit\n"
     ]
    },
    {
     "name": "stdout",
     "output_type": "stream",
     "text": [
      "Added word shit to blacklist.\n"
     ]
    },
    {
     "name": "stdin",
     "output_type": "stream",
     "text": [
      "\n",
      "Please input bad word [input 'done' to finish inputting.']:  damn\n"
     ]
    },
    {
     "name": "stdout",
     "output_type": "stream",
     "text": [
      "Added word damn to blacklist.\n"
     ]
    },
    {
     "name": "stdin",
     "output_type": "stream",
     "text": [
      "\n",
      "Please input bad word [input 'done' to finish inputting.']:  done\n"
     ]
    },
    {
     "name": "stdout",
     "output_type": "stream",
     "text": [
      "\n",
      "Returning to main menu.\n",
      "\n",
      "What would you like to do today? Input the number of your choice:\n",
      "\n",
      "1 to censor a sentence, \n",
      "2 to add words to the blacklist, \n",
      "3 to view the blacklist, \n",
      "4 to quit the program.\n"
     ]
    },
    {
     "name": "stdin",
     "output_type": "stream",
     "text": [
      "\n",
      "Please select an option:  3\n"
     ]
    },
    {
     "name": "stdout",
     "output_type": "stream",
     "text": [
      "\n",
      "--START OF BAD WORDS BLACKLIST--\n",
      "\n",
      "fuck\n",
      "\n",
      "shit\n",
      "\n",
      "damn\n",
      "\n",
      "--END OF BAD WORDS BLACKLIST--\n",
      "\n",
      "What would you like to do today? Input the number of your choice:\n",
      "\n",
      "1 to censor a sentence, \n",
      "2 to add words to the blacklist, \n",
      "3 to view the blacklist, \n",
      "4 to quit the program.\n"
     ]
    },
    {
     "name": "stdin",
     "output_type": "stream",
     "text": [
      "\n",
      "Please select an option:  1\n",
      "Input the sentence you want to censor:  lorem impsum damn dolor shit amet fuck consecetur\n"
     ]
    },
    {
     "name": "stdout",
     "output_type": "stream",
     "text": [
      "\n",
      "Censoring against blacklist...\n",
      "\n",
      "Your censored sentence is: \n",
      "lorem impsum **** dolor **** amet **** consecetur\n",
      "\n",
      "What would you like to do today? Input the number of your choice:\n",
      "\n",
      "1 to censor a sentence, \n",
      "2 to add words to the blacklist, \n",
      "3 to view the blacklist, \n",
      "4 to quit the program.\n"
     ]
    },
    {
     "name": "stdin",
     "output_type": "stream",
     "text": [
      "\n",
      "Please select an option:  4\n"
     ]
    },
    {
     "ename": "SystemExit",
     "evalue": "",
     "output_type": "error",
     "traceback": [
      "An exception has occurred, use %tb to see the full traceback.\n",
      "\u001b[0;31mSystemExit\u001b[0m\n"
     ]
    },
    {
     "name": "stderr",
     "output_type": "stream",
     "text": [
      "/home/kbangcola/.var/app/org.jupyter.JupyterLab/config/jupyterlab-desktop/jlab_server/lib/python3.12/site-packages/IPython/core/interactiveshell.py:3585: UserWarning: To exit: use 'exit', 'quit', or Ctrl-D.\n",
      "  warn(\"To exit: use 'exit', 'quit', or Ctrl-D.\", stacklevel=1)\n"
     ]
    }
   ],
   "source": [
    "\"\"\"\n",
    "main.py\n",
    "\n",
    "simply imports mainMenu and loops until exit.\n",
    "\"\"\""
   ]
  },
  {
   "cell_type": "code",
   "execution_count": 1,
   "id": "7e7714f4-b155-4736-8c00-8cde574f3c18",
   "metadata": {},
   "outputs": [
    {
     "name": "stdout",
     "output_type": "stream",
     "text": [
      "/home/kbangcola/PSMDSRC103_2425_Bangcola/module2/assignment2.1/bad_words\n"
     ]
    },
    {
     "data": {
      "text/plain": [
       "'/home/kbangcola/PSMDSRC103_2425_Bangcola/module2/assignment2.1/bad_words'"
      ]
     },
     "execution_count": 1,
     "metadata": {},
     "output_type": "execute_result"
    }
   ],
   "source": [
    "%cd bad_words\n",
    "%pwd"
   ]
  },
  {
   "cell_type": "code",
   "execution_count": null,
   "id": "fe389d8d-290e-418c-bec1-d84e7b673264",
   "metadata": {},
   "outputs": [],
   "source": [
    "\"\"\"\n",
    "Quadratic Solver\n",
    "\n",
    "This program uses the quadratic formula function provided in the last seatwork.\n",
    "As per the instructions, it will accept 3 inputs, solve them, and save the\n",
    "results and inputs to a text file.\n",
    "\n",
    "\"\"\""
   ]
  },
  {
   "cell_type": "code",
   "execution_count": 3,
   "id": "ac919e24-8202-44c5-95df-6a9cd4ccc387",
   "metadata": {},
   "outputs": [
    {
     "name": "stdout",
     "output_type": "stream",
     "text": [
      "/home/kbangcola/PSMDSRC103_2425_Bangcola/module2/assignment2.1\n"
     ]
    }
   ],
   "source": [
    "%cd .."
   ]
  },
  {
   "cell_type": "code",
   "execution_count": 4,
   "id": "a5884e20-75bd-496c-9042-d76e419aa929",
   "metadata": {},
   "outputs": [
    {
     "name": "stdout",
     "output_type": "stream",
     "text": [
      "/home/kbangcola/PSMDSRC103_2425_Bangcola/module2/assignment2.1/quadratic\n"
     ]
    }
   ],
   "source": [
    "%cd quadratic"
   ]
  },
  {
   "cell_type": "code",
   "execution_count": 5,
   "id": "5b9935c2-b7bc-4fd5-9393-4d705a6c8b4d",
   "metadata": {},
   "outputs": [
    {
     "name": "stdin",
     "output_type": "stream",
     "text": [
      "Please enter the value for variable a:  10\n",
      "Please enter the value for variable b:  20\n",
      "Please enter the value for variable c:  30\n"
     ]
    },
    {
     "name": "stdout",
     "output_type": "stream",
     "text": [
      "Now solving...\n",
      "The values of x are: \n",
      "((-1+1.4j), (-1-1.4j))\n",
      "\n",
      "Now saving results to file 'results.txt'...\n",
      "Done saving file!\n"
     ]
    }
   ],
   "source": [
    "import math\n",
    "\n",
    "def notEmptyCheck(a):\n",
    "    return len(str(a)) > 0\n",
    "\n",
    "def inputLoopFloat(prompt):\n",
    "    \n",
    "    validInput = False #set flag to retry input if input is invalid\n",
    "    \n",
    "    #begin input looop\n",
    "\n",
    "    while validInput == False: \n",
    "        try:\n",
    "            userInput = float(input(prompt))\n",
    "            if notEmptyCheck(userInput): \n",
    "                return userInput\n",
    "                validInput = True\n",
    "            else:\n",
    "                print(\"ERROR: Values must not be not empty.\")\n",
    "        except ValueError:\n",
    "            print (\"ERROR: Input must be a valid number!\") #restrat loop if empty \n",
    "\n",
    "def quadratic_formula(a, b, c):\n",
    "    if b**2 - (4*a*c) < 0:\n",
    "        x1 = (complex(-b, math.floor(math.sqrt(abs(b**2-(4*a*c)))))) / (2*a)\n",
    "        x2 = (complex(-b, -1*math.floor(math.sqrt(abs(b**2-(4*a*c)))))) / (2*a)\n",
    "        return x1, x2\n",
    "    else:\n",
    "        x1 = (-b + math.sqrt(b**2 - (4*a*c))) / (2*a)\n",
    "        x2 = (-b - math.sqrt(b**2 - (4*a*c))) / (2*a)\n",
    "        return x1, x2\n",
    "\n",
    "inputA = inputLoopFloat(\"Please enter the value for variable a: \")\n",
    "inputB = inputLoopFloat(\"Please enter the value for variable b: \")\n",
    "inputC = inputLoopFloat(\"Please enter the value for variable c: \")\n",
    "result = quadratic_formula(inputA, inputB, inputC)\n",
    "print(\"Now solving...\")\n",
    "print(\"The values of x are: \")\n",
    "print(result)\n",
    "print(\"\\nNow saving results to file 'results.txt'...\")\n",
    "\n",
    "file = open(\"results.txt\", 'w')\n",
    "\n",
    "file.write(\"Quadratic Equation solved:\")\n",
    "file.write(\"\\nValues of a, b, c:\")\n",
    "file.write(\"a = \" + str(inputA))\n",
    "file.write(\"b = \" + str(inputB))\n",
    "file.write(\"c = \" + str(inputC))\n",
    "file.write(\"\\nValues of x:\")\n",
    "file.write(str(result))\n",
    "file.close()\n",
    "\n",
    "print(\"Done saving file!\")"
   ]
  },
  {
   "cell_type": "code",
   "execution_count": 7,
   "id": "21cabfb4-ef4b-4a91-a63f-f3a793075772",
   "metadata": {},
   "outputs": [
    {
     "name": "stdout",
     "output_type": "stream",
     "text": [
      "Quadratic Equation solved:\n",
      "Values of a, b, c:a = 10.0b = 20.0c = 30.0\n",
      "Values of x:((-1+1.4j), (-1-1.4j))\n"
     ]
    }
   ],
   "source": [
    "\"\"\"\n",
    "Output of the above file:\n",
    "\"\"\"\n",
    "\n",
    "file = open(\"results.txt\", 'r')\n",
    "data = file.read()\n",
    "print(data)\n",
    "file.close()"
   ]
  },
  {
   "cell_type": "code",
   "execution_count": null,
   "id": "868b6b49-0f58-411a-9623-fe065341c126",
   "metadata": {},
   "outputs": [],
   "source": [
    "\"\"\"\n",
    "Follow-up questions:\n",
    "\n",
    "Answer the following questions:\n",
    "\n",
    "Why do built-in functions exist?\n",
    "\n",
    "    Built-in functions exist to provide a basic level of functionality within the core Python kernel.\n",
    "\n",
    "What are the advantages/disadvantages of placing code inside functions vs. sequential codes?\n",
    "\n",
    "    By placing code inside functions, we can reduce redundancy within our program. We can place\n",
    "repeatedly called code in a function and call the function instea of copy/pasting the same code.\n",
    "We can also take advantage of the local and global scope of variables - the same variable can be \n",
    "reused multiple times for different purposes in different functions. Functions also allow more flexibility\n",
    "in branching our program out to take different paths - versus sequential code which only runs once top to bottom.\n",
    "We can also use functons recursively, further reducing redundancy.\n",
    "\n",
    "What is the different between a function and a module?\n",
    "    A module is simply another Python file that can contain functions, variables, code, etc. We can create a module\n",
    "containing functions and then we can import that module from another python file. That way, we can call that function\n",
    "without copy/pasting it again. This way we can separate the different parts of our program - presentation and logic separate.\n",
    "\n",
    "Discuss the difference between a module and a package.\n",
    "    A module is one python file but a package can consist of several modules. Popular packages include pandas, plotlib, scipy, etc.\n"
   ]
  }
 ],
 "metadata": {
  "kernelspec": {
   "display_name": "Python 3 (ipykernel)",
   "language": "python",
   "name": "python3"
  },
  "language_info": {
   "codemirror_mode": {
    "name": "ipython",
    "version": 3
   },
   "file_extension": ".py",
   "mimetype": "text/x-python",
   "name": "python",
   "nbconvert_exporter": "python",
   "pygments_lexer": "ipython3",
   "version": "3.12.3"
  }
 },
 "nbformat": 4,
 "nbformat_minor": 5
}
